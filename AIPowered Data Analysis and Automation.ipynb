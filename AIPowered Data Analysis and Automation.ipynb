{
 "cells": [
  {
   "cell_type": "markdown",
   "metadata": {},
   "source": [
    "# AI-Powered Data Analysis & Automation"
   ]
  },
  {
   "cell_type": "code",
   "execution_count": 1,
   "metadata": {
    "executionInfo": {
     "elapsed": 3162,
     "status": "ok",
     "timestamp": 1750851862805,
     "user": {
      "displayName": "Segun Ade-Martins",
      "userId": "13276299746255898618"
     },
     "user_tz": -60
    },
    "id": "mZLqvqsbGng0"
   },
   "outputs": [],
   "source": [
    "import pandas as pd\n",
    "import numpy as np\n",
    "import io\n",
    "import matplotlib.pyplot as plt\n",
    "import seaborn as sns\n",
    "\n"
   ]
  },
  {
   "cell_type": "markdown",
   "metadata": {
    "id": "FStR9a_cLMZj"
   },
   "source": [
    "#### 1.1 Loading the dataset."
   ]
  },
  {
   "cell_type": "code",
   "execution_count": 7,
   "metadata": {
    "colab": {
     "base_uri": "https://localhost:8080/",
     "height": 1000
    },
    "executionInfo": {
     "elapsed": 75,
     "status": "ok",
     "timestamp": 1750851862913,
     "user": {
      "displayName": "Segun Ade-Martins",
      "userId": "13276299746255898618"
     },
     "user_tz": -60
    },
    "id": "pyu4dO1kLRZX",
    "outputId": "e8c36061-56cb-40c3-e28f-1d6b9e97a652"
   },
   "outputs": [
    {
     "data": {
      "application/vnd.microsoft.datawrangler.viewer.v0+json": {
       "columns": [
        {
         "name": "index",
         "rawType": "int64",
         "type": "integer"
        },
        {
         "name": "Customer_ID",
         "rawType": "int64",
         "type": "integer"
        },
        {
         "name": "Age",
         "rawType": "int64",
         "type": "integer"
        },
        {
         "name": "Gender",
         "rawType": "object",
         "type": "string"
        },
        {
         "name": "Income",
         "rawType": "float64",
         "type": "float"
        },
        {
         "name": "Spending_Score",
         "rawType": "int64",
         "type": "integer"
        },
        {
         "name": "Credit_Score",
         "rawType": "float64",
         "type": "float"
        },
        {
         "name": "Loan_Amount",
         "rawType": "float64",
         "type": "float"
        },
        {
         "name": "Previous_Defaults",
         "rawType": "int64",
         "type": "integer"
        },
        {
         "name": "Marketing_Spend",
         "rawType": "int64",
         "type": "integer"
        },
        {
         "name": "Purchase_Frequency",
         "rawType": "int64",
         "type": "integer"
        },
        {
         "name": "Seasonality",
         "rawType": "object",
         "type": "string"
        },
        {
         "name": "Sales",
         "rawType": "int64",
         "type": "integer"
        },
        {
         "name": "Customer_Churn",
         "rawType": "int64",
         "type": "integer"
        },
        {
         "name": "Defaulted",
         "rawType": "int64",
         "type": "integer"
        }
       ],
       "ref": "468e5b4d-4797-425a-bdff-6e60ac71e01f",
       "rows": [
        [
         "0",
         "1",
         "56",
         "Female",
         "142418.0",
         "7",
         "391.0",
         "8083.0",
         "1",
         "15376",
         "3",
         "Low",
         "32526",
         "0",
         "0"
        ],
        [
         "1",
         "2",
         "69",
         "Male",
         "63088.0",
         "82",
         "652.0",
         "34328.0",
         "2",
         "6889",
         "6",
         "Low",
         "78493",
         "0",
         "0"
        ],
        [
         "2",
         "3",
         "46",
         "Male",
         "136868.0",
         "91",
         "662.0",
         "47891.0",
         "2",
         "6054",
         "29",
         "Medium",
         "57198",
         "1",
         "0"
        ],
        [
         "3",
         "4",
         "32",
         "Female",
         null,
         "34",
         "644.0",
         "25103.0",
         "2",
         "4868",
         "8",
         "Medium",
         "48395",
         "0",
         "0"
        ],
        [
         "4",
         "5",
         "60",
         "Male",
         "59811.0",
         "91",
         "469.0",
         "44891.0",
         "1",
         "17585",
         "12",
         "High",
         "29031",
         "1",
         "0"
        ]
       ],
       "shape": {
        "columns": 14,
        "rows": 5
       }
      },
      "text/html": [
       "<div>\n",
       "<style scoped>\n",
       "    .dataframe tbody tr th:only-of-type {\n",
       "        vertical-align: middle;\n",
       "    }\n",
       "\n",
       "    .dataframe tbody tr th {\n",
       "        vertical-align: top;\n",
       "    }\n",
       "\n",
       "    .dataframe thead th {\n",
       "        text-align: right;\n",
       "    }\n",
       "</style>\n",
       "<table border=\"1\" class=\"dataframe\">\n",
       "  <thead>\n",
       "    <tr style=\"text-align: right;\">\n",
       "      <th></th>\n",
       "      <th>Customer_ID</th>\n",
       "      <th>Age</th>\n",
       "      <th>Gender</th>\n",
       "      <th>Income</th>\n",
       "      <th>Spending_Score</th>\n",
       "      <th>Credit_Score</th>\n",
       "      <th>Loan_Amount</th>\n",
       "      <th>Previous_Defaults</th>\n",
       "      <th>Marketing_Spend</th>\n",
       "      <th>Purchase_Frequency</th>\n",
       "      <th>Seasonality</th>\n",
       "      <th>Sales</th>\n",
       "      <th>Customer_Churn</th>\n",
       "      <th>Defaulted</th>\n",
       "    </tr>\n",
       "  </thead>\n",
       "  <tbody>\n",
       "    <tr>\n",
       "      <th>0</th>\n",
       "      <td>1</td>\n",
       "      <td>56</td>\n",
       "      <td>Female</td>\n",
       "      <td>142418.0</td>\n",
       "      <td>7</td>\n",
       "      <td>391.0</td>\n",
       "      <td>8083.0</td>\n",
       "      <td>1</td>\n",
       "      <td>15376</td>\n",
       "      <td>3</td>\n",
       "      <td>Low</td>\n",
       "      <td>32526</td>\n",
       "      <td>0</td>\n",
       "      <td>0</td>\n",
       "    </tr>\n",
       "    <tr>\n",
       "      <th>1</th>\n",
       "      <td>2</td>\n",
       "      <td>69</td>\n",
       "      <td>Male</td>\n",
       "      <td>63088.0</td>\n",
       "      <td>82</td>\n",
       "      <td>652.0</td>\n",
       "      <td>34328.0</td>\n",
       "      <td>2</td>\n",
       "      <td>6889</td>\n",
       "      <td>6</td>\n",
       "      <td>Low</td>\n",
       "      <td>78493</td>\n",
       "      <td>0</td>\n",
       "      <td>0</td>\n",
       "    </tr>\n",
       "    <tr>\n",
       "      <th>2</th>\n",
       "      <td>3</td>\n",
       "      <td>46</td>\n",
       "      <td>Male</td>\n",
       "      <td>136868.0</td>\n",
       "      <td>91</td>\n",
       "      <td>662.0</td>\n",
       "      <td>47891.0</td>\n",
       "      <td>2</td>\n",
       "      <td>6054</td>\n",
       "      <td>29</td>\n",
       "      <td>Medium</td>\n",
       "      <td>57198</td>\n",
       "      <td>1</td>\n",
       "      <td>0</td>\n",
       "    </tr>\n",
       "    <tr>\n",
       "      <th>3</th>\n",
       "      <td>4</td>\n",
       "      <td>32</td>\n",
       "      <td>Female</td>\n",
       "      <td>NaN</td>\n",
       "      <td>34</td>\n",
       "      <td>644.0</td>\n",
       "      <td>25103.0</td>\n",
       "      <td>2</td>\n",
       "      <td>4868</td>\n",
       "      <td>8</td>\n",
       "      <td>Medium</td>\n",
       "      <td>48395</td>\n",
       "      <td>0</td>\n",
       "      <td>0</td>\n",
       "    </tr>\n",
       "    <tr>\n",
       "      <th>4</th>\n",
       "      <td>5</td>\n",
       "      <td>60</td>\n",
       "      <td>Male</td>\n",
       "      <td>59811.0</td>\n",
       "      <td>91</td>\n",
       "      <td>469.0</td>\n",
       "      <td>44891.0</td>\n",
       "      <td>1</td>\n",
       "      <td>17585</td>\n",
       "      <td>12</td>\n",
       "      <td>High</td>\n",
       "      <td>29031</td>\n",
       "      <td>1</td>\n",
       "      <td>0</td>\n",
       "    </tr>\n",
       "  </tbody>\n",
       "</table>\n",
       "</div>"
      ],
      "text/plain": [
       "   Customer_ID  Age  Gender    Income  Spending_Score  Credit_Score  \\\n",
       "0            1   56  Female  142418.0               7         391.0   \n",
       "1            2   69    Male   63088.0              82         652.0   \n",
       "2            3   46    Male  136868.0              91         662.0   \n",
       "3            4   32  Female       NaN              34         644.0   \n",
       "4            5   60    Male   59811.0              91         469.0   \n",
       "\n",
       "   Loan_Amount  Previous_Defaults  Marketing_Spend  Purchase_Frequency  \\\n",
       "0       8083.0                  1            15376                   3   \n",
       "1      34328.0                  2             6889                   6   \n",
       "2      47891.0                  2             6054                  29   \n",
       "3      25103.0                  2             4868                   8   \n",
       "4      44891.0                  1            17585                  12   \n",
       "\n",
       "  Seasonality  Sales  Customer_Churn  Defaulted  \n",
       "0         Low  32526               0          0  \n",
       "1         Low  78493               0          0  \n",
       "2      Medium  57198               1          0  \n",
       "3      Medium  48395               0          0  \n",
       "4        High  29031               1          0  "
      ]
     },
     "execution_count": 7,
     "metadata": {},
     "output_type": "execute_result"
    }
   ],
   "source": [
    "# Simple statement to load the data\n",
    "def load_data():\n",
    "    df = pd.read_csv(r\"C:\\Users\\UserPC\\.conda\\VS Week 4 Project\\raw_dataset_week4.csv\", encoding='utf-8')\n",
    "    return df\n",
    "\n",
    "df = load_data()\n",
    "df.head(5)"
   ]
  },
  {
   "cell_type": "markdown",
   "metadata": {},
   "source": [
    "#### 1.2 Here is the descriptive statistics summary for the original, unaltered dataset."
   ]
  },
  {
   "cell_type": "code",
   "execution_count": 10,
   "metadata": {},
   "outputs": [
    {
     "name": "stdout",
     "output_type": "stream",
     "text": [
      "--- Initial Dataset Summary ---\n",
      "Shape: 500 rows, 14 columns\n",
      "\n"
     ]
    },
    {
     "data": {
      "application/vnd.microsoft.datawrangler.viewer.v0+json": {
       "columns": [
        {
         "name": "index",
         "rawType": "object",
         "type": "string"
        },
        {
         "name": "count",
         "rawType": "int32",
         "type": "integer"
        },
        {
         "name": "mean",
         "rawType": "float64",
         "type": "float"
        },
        {
         "name": "median",
         "rawType": "float64",
         "type": "float"
        },
        {
         "name": "std_dev",
         "rawType": "float64",
         "type": "float"
        },
        {
         "name": "variance",
         "rawType": "float64",
         "type": "float"
        },
        {
         "name": "range",
         "rawType": "float64",
         "type": "float"
        },
        {
         "name": "iqr",
         "rawType": "float64",
         "type": "float"
        },
        {
         "name": "mode",
         "rawType": "object",
         "type": "unknown"
        }
       ],
       "ref": "021026ea-8de0-4cff-9c69-f1a4aeb17a65",
       "rows": [
        [
         "Customer_ID",
         "500",
         "250.5",
         "250.5",
         "144.48",
         "20875.0",
         "499.0",
         "249.5",
         "1"
        ],
        [
         "Age",
         "500",
         "44.22",
         "45.0",
         "15.04",
         "226.08",
         "51.0",
         "25.0",
         "50.0"
        ],
        [
         "Income",
         "450",
         "84398.06",
         "85375.5",
         "40112.05",
         "1608976841.23",
         "129867.0",
         "74155.25",
         "20055.0"
        ],
        [
         "Spending_Score",
         "500",
         "50.86",
         "51.0",
         "29.13",
         "848.27",
         "98.0",
         "51.25",
         "98.0"
        ],
        [
         "Credit_Score",
         "450",
         "573.41",
         "588.5",
         "157.4",
         "24773.7",
         "548.0",
         "255.5",
         "383.0"
        ],
        [
         "Loan_Amount",
         "450",
         "28456.93",
         "29817.0",
         "12427.29",
         "154437660.43",
         "44773.0",
         "21082.75",
         "20379.0"
        ],
        [
         "Previous_Defaults",
         "500",
         "0.97",
         "1.0",
         "0.83",
         "0.68",
         "2.0",
         "2.0",
         "0.0"
        ],
        [
         "Marketing_Spend",
         "500",
         "10558.13",
         "10754.0",
         "5508.22",
         "30340476.64",
         "18966.0",
         "9058.25",
         "14324.0"
        ],
        [
         "Purchase_Frequency",
         "500",
         "15.35",
         "16.0",
         "8.48",
         "71.83",
         "28.0",
         "15.0",
         "27.0"
        ],
        [
         "Sales",
         "500",
         "54378.95",
         "54032.5",
         "27263.11",
         "743276974.27",
         "94632.0",
         "48016.25",
         "52574.0"
        ],
        [
         "Customer_Churn",
         "500",
         "0.25",
         "0.0",
         "0.44",
         "0.19",
         "1.0",
         "1.0",
         "0.0"
        ],
        [
         "Defaulted",
         "500",
         "0.19",
         "0.0",
         "0.39",
         "0.15",
         "1.0",
         "0.0",
         "0.0"
        ]
       ],
       "shape": {
        "columns": 8,
        "rows": 12
       }
      },
      "text/html": [
       "<div>\n",
       "<style scoped>\n",
       "    .dataframe tbody tr th:only-of-type {\n",
       "        vertical-align: middle;\n",
       "    }\n",
       "\n",
       "    .dataframe tbody tr th {\n",
       "        vertical-align: top;\n",
       "    }\n",
       "\n",
       "    .dataframe thead th {\n",
       "        text-align: right;\n",
       "    }\n",
       "</style>\n",
       "<table border=\"1\" class=\"dataframe\">\n",
       "  <thead>\n",
       "    <tr style=\"text-align: right;\">\n",
       "      <th></th>\n",
       "      <th>count</th>\n",
       "      <th>mean</th>\n",
       "      <th>median</th>\n",
       "      <th>std_dev</th>\n",
       "      <th>variance</th>\n",
       "      <th>range</th>\n",
       "      <th>iqr</th>\n",
       "      <th>mode</th>\n",
       "    </tr>\n",
       "  </thead>\n",
       "  <tbody>\n",
       "    <tr>\n",
       "      <th>Customer_ID</th>\n",
       "      <td>500</td>\n",
       "      <td>250.50</td>\n",
       "      <td>250.5</td>\n",
       "      <td>144.48</td>\n",
       "      <td>2.087500e+04</td>\n",
       "      <td>499.0</td>\n",
       "      <td>249.50</td>\n",
       "      <td>1</td>\n",
       "    </tr>\n",
       "    <tr>\n",
       "      <th>Age</th>\n",
       "      <td>500</td>\n",
       "      <td>44.22</td>\n",
       "      <td>45.0</td>\n",
       "      <td>15.04</td>\n",
       "      <td>2.260800e+02</td>\n",
       "      <td>51.0</td>\n",
       "      <td>25.00</td>\n",
       "      <td>50.0</td>\n",
       "    </tr>\n",
       "    <tr>\n",
       "      <th>Income</th>\n",
       "      <td>450</td>\n",
       "      <td>84398.06</td>\n",
       "      <td>85375.5</td>\n",
       "      <td>40112.05</td>\n",
       "      <td>1.608977e+09</td>\n",
       "      <td>129867.0</td>\n",
       "      <td>74155.25</td>\n",
       "      <td>20055.0</td>\n",
       "    </tr>\n",
       "    <tr>\n",
       "      <th>Spending_Score</th>\n",
       "      <td>500</td>\n",
       "      <td>50.86</td>\n",
       "      <td>51.0</td>\n",
       "      <td>29.13</td>\n",
       "      <td>8.482700e+02</td>\n",
       "      <td>98.0</td>\n",
       "      <td>51.25</td>\n",
       "      <td>98.0</td>\n",
       "    </tr>\n",
       "    <tr>\n",
       "      <th>Credit_Score</th>\n",
       "      <td>450</td>\n",
       "      <td>573.41</td>\n",
       "      <td>588.5</td>\n",
       "      <td>157.40</td>\n",
       "      <td>2.477370e+04</td>\n",
       "      <td>548.0</td>\n",
       "      <td>255.50</td>\n",
       "      <td>383.0</td>\n",
       "    </tr>\n",
       "    <tr>\n",
       "      <th>Loan_Amount</th>\n",
       "      <td>450</td>\n",
       "      <td>28456.93</td>\n",
       "      <td>29817.0</td>\n",
       "      <td>12427.29</td>\n",
       "      <td>1.544377e+08</td>\n",
       "      <td>44773.0</td>\n",
       "      <td>21082.75</td>\n",
       "      <td>20379.0</td>\n",
       "    </tr>\n",
       "    <tr>\n",
       "      <th>Previous_Defaults</th>\n",
       "      <td>500</td>\n",
       "      <td>0.97</td>\n",
       "      <td>1.0</td>\n",
       "      <td>0.83</td>\n",
       "      <td>6.800000e-01</td>\n",
       "      <td>2.0</td>\n",
       "      <td>2.00</td>\n",
       "      <td>0.0</td>\n",
       "    </tr>\n",
       "    <tr>\n",
       "      <th>Marketing_Spend</th>\n",
       "      <td>500</td>\n",
       "      <td>10558.13</td>\n",
       "      <td>10754.0</td>\n",
       "      <td>5508.22</td>\n",
       "      <td>3.034048e+07</td>\n",
       "      <td>18966.0</td>\n",
       "      <td>9058.25</td>\n",
       "      <td>14324.0</td>\n",
       "    </tr>\n",
       "    <tr>\n",
       "      <th>Purchase_Frequency</th>\n",
       "      <td>500</td>\n",
       "      <td>15.35</td>\n",
       "      <td>16.0</td>\n",
       "      <td>8.48</td>\n",
       "      <td>7.183000e+01</td>\n",
       "      <td>28.0</td>\n",
       "      <td>15.00</td>\n",
       "      <td>27.0</td>\n",
       "    </tr>\n",
       "    <tr>\n",
       "      <th>Sales</th>\n",
       "      <td>500</td>\n",
       "      <td>54378.95</td>\n",
       "      <td>54032.5</td>\n",
       "      <td>27263.11</td>\n",
       "      <td>7.432770e+08</td>\n",
       "      <td>94632.0</td>\n",
       "      <td>48016.25</td>\n",
       "      <td>52574.0</td>\n",
       "    </tr>\n",
       "    <tr>\n",
       "      <th>Customer_Churn</th>\n",
       "      <td>500</td>\n",
       "      <td>0.25</td>\n",
       "      <td>0.0</td>\n",
       "      <td>0.44</td>\n",
       "      <td>1.900000e-01</td>\n",
       "      <td>1.0</td>\n",
       "      <td>1.00</td>\n",
       "      <td>0.0</td>\n",
       "    </tr>\n",
       "    <tr>\n",
       "      <th>Defaulted</th>\n",
       "      <td>500</td>\n",
       "      <td>0.19</td>\n",
       "      <td>0.0</td>\n",
       "      <td>0.39</td>\n",
       "      <td>1.500000e-01</td>\n",
       "      <td>1.0</td>\n",
       "      <td>0.00</td>\n",
       "      <td>0.0</td>\n",
       "    </tr>\n",
       "  </tbody>\n",
       "</table>\n",
       "</div>"
      ],
      "text/plain": [
       "                    count      mean   median   std_dev      variance  \\\n",
       "Customer_ID           500    250.50    250.5    144.48  2.087500e+04   \n",
       "Age                   500     44.22     45.0     15.04  2.260800e+02   \n",
       "Income                450  84398.06  85375.5  40112.05  1.608977e+09   \n",
       "Spending_Score        500     50.86     51.0     29.13  8.482700e+02   \n",
       "Credit_Score          450    573.41    588.5    157.40  2.477370e+04   \n",
       "Loan_Amount           450  28456.93  29817.0  12427.29  1.544377e+08   \n",
       "Previous_Defaults     500      0.97      1.0      0.83  6.800000e-01   \n",
       "Marketing_Spend       500  10558.13  10754.0   5508.22  3.034048e+07   \n",
       "Purchase_Frequency    500     15.35     16.0      8.48  7.183000e+01   \n",
       "Sales                 500  54378.95  54032.5  27263.11  7.432770e+08   \n",
       "Customer_Churn        500      0.25      0.0      0.44  1.900000e-01   \n",
       "Defaulted             500      0.19      0.0      0.39  1.500000e-01   \n",
       "\n",
       "                       range       iqr     mode  \n",
       "Customer_ID            499.0    249.50        1  \n",
       "Age                     51.0     25.00     50.0  \n",
       "Income              129867.0  74155.25  20055.0  \n",
       "Spending_Score          98.0     51.25     98.0  \n",
       "Credit_Score           548.0    255.50    383.0  \n",
       "Loan_Amount          44773.0  21082.75  20379.0  \n",
       "Previous_Defaults        2.0      2.00      0.0  \n",
       "Marketing_Spend      18966.0   9058.25  14324.0  \n",
       "Purchase_Frequency      28.0     15.00     27.0  \n",
       "Sales                94632.0  48016.25  52574.0  \n",
       "Customer_Churn           1.0      1.00      0.0  \n",
       "Defaulted                1.0      0.00      0.0  "
      ]
     },
     "metadata": {},
     "output_type": "display_data"
    },
    {
     "name": "stdout",
     "output_type": "stream",
     "text": [
      "\n",
      "Missing values in the original dataset:\n"
     ]
    },
    {
     "data": {
      "application/vnd.microsoft.datawrangler.viewer.v0+json": {
       "columns": [
        {
         "name": "index",
         "rawType": "object",
         "type": "string"
        },
        {
         "name": "0",
         "rawType": "int64",
         "type": "integer"
        }
       ],
       "ref": "ca65dd56-4402-4417-92b8-4afb2ebd8eba",
       "rows": [
        [
         "Customer_ID",
         "0"
        ],
        [
         "Age",
         "0"
        ],
        [
         "Gender",
         "0"
        ],
        [
         "Income",
         "50"
        ],
        [
         "Spending_Score",
         "0"
        ],
        [
         "Credit_Score",
         "50"
        ],
        [
         "Loan_Amount",
         "50"
        ],
        [
         "Previous_Defaults",
         "0"
        ],
        [
         "Marketing_Spend",
         "0"
        ],
        [
         "Purchase_Frequency",
         "0"
        ],
        [
         "Seasonality",
         "0"
        ],
        [
         "Sales",
         "0"
        ],
        [
         "Customer_Churn",
         "0"
        ],
        [
         "Defaulted",
         "0"
        ]
       ],
       "shape": {
        "columns": 1,
        "rows": 14
       }
      },
      "text/plain": [
       "Customer_ID            0\n",
       "Age                    0\n",
       "Gender                 0\n",
       "Income                50\n",
       "Spending_Score         0\n",
       "Credit_Score          50\n",
       "Loan_Amount           50\n",
       "Previous_Defaults      0\n",
       "Marketing_Spend        0\n",
       "Purchase_Frequency     0\n",
       "Seasonality            0\n",
       "Sales                  0\n",
       "Customer_Churn         0\n",
       "Defaulted              0\n",
       "dtype: int64"
      ]
     },
     "metadata": {},
     "output_type": "display_data"
    }
   ],
   "source": [
    "df_raw = df.copy()\n",
    "# Function to calculate all required stats\n",
    "\n",
    "def get_stats_summary(df_raw):\n",
    "    # Basic description\n",
    "    desc = df.describe().transpose()\n",
    "\n",
    "    # Create a summary dataframe\n",
    "    summary_df = pd.DataFrame(index=desc.index)\n",
    "    summary_df['count'] = desc['count'].astype(int)\n",
    "\n",
    "    # Shape of the dataframe\n",
    "    shape_str = f\"{df.shape[0]} rows, {df.shape[1]} columns\"\n",
    "\n",
    "    # Numeric columns for calculations\n",
    "    numeric_cols = df.select_dtypes(include=np.number).columns\n",
    "\n",
    "    # Calculate additional stats\n",
    "    summary_df['mean'] = desc['mean']\n",
    "    summary_df['median'] = df[numeric_cols].median()\n",
    "    summary_df['std_dev'] = desc['std']\n",
    "    summary_df['variance'] = df[numeric_cols].var()\n",
    "    summary_df['range'] = df[numeric_cols].max() - df[numeric_cols].min()\n",
    "    summary_df['iqr'] = desc['75%'] - desc['25%']\n",
    "\n",
    "    # Mode can have multiple values, we take the first one\n",
    "    modes = df.mode().iloc[0]\n",
    "    summary_df['mode'] = modes\n",
    "\n",
    "    return shape_str, summary_df.round(2)\n",
    "\n",
    "# Get and print stats for the raw dataset\n",
    "raw_shape, raw_summary = get_stats_summary(df)\n",
    "\n",
    "print(\"--- Initial Dataset Summary ---\")\n",
    "print(f\"Shape: {raw_shape}\\n\")\n",
    "display(raw_summary)\n",
    "\n",
    "# Check for nulls\n",
    "print(\"\\nMissing values in the original dataset:\")\n",
    "display(df_raw.isnull().sum())"
   ]
  },
  {
   "cell_type": "markdown",
   "metadata": {
    "id": "MQVkLYM_Lwcd"
   },
   "source": [
    "The initial summary confirms the presence of 50 missing Income values, 38 missing Credit_Score values, and 47 missing Loan_Amount values."
   ]
  },
  {
   "cell_type": "markdown",
   "metadata": {
    "id": "65QAF8jeL6g_"
   },
   "source": [
    "1.3 Data Cleaning\n",
    "Now, we'll clean the dataset according to the instructions."
   ]
  },
  {
   "cell_type": "code",
   "execution_count": 11,
   "metadata": {
    "colab": {
     "base_uri": "https://localhost:8080/",
     "height": 1000
    },
    "executionInfo": {
     "elapsed": 22,
     "status": "ok",
     "timestamp": 1750851862943,
     "user": {
      "displayName": "Segun Ade-Martins",
      "userId": "13276299746255898618"
     },
     "user_tz": -60
    },
    "id": "k5YsK89TLxqE",
    "outputId": "e3344e14-fc15-44d6-fbd7-9dc0434732e1"
   },
   "outputs": [
    {
     "name": "stdout",
     "output_type": "stream",
     "text": [
      "Found and removed 0 duplicate rows.\n",
      "Missing values in 'Income' replaced with mean: 84398.06\n",
      "Missing values in 'Credit_Score' replaced with mean: 573.41\n",
      "Missing values in 'Loan_Amount' replaced with mean: 28456.93\n",
      "\n",
      "Data types after cleaning:\n"
     ]
    },
    {
     "data": {
      "application/vnd.microsoft.datawrangler.viewer.v0+json": {
       "columns": [
        {
         "name": "index",
         "rawType": "object",
         "type": "string"
        },
        {
         "name": "0",
         "rawType": "object",
         "type": "unknown"
        }
       ],
       "ref": "b3c27ebc-6bb3-4802-8d5d-349cbf2c2d1a",
       "rows": [
        [
         "Customer_ID",
         "int64"
        ],
        [
         "Age",
         "int64"
        ],
        [
         "Gender",
         "object"
        ],
        [
         "Income",
         "float64"
        ],
        [
         "Spending_Score",
         "int64"
        ],
        [
         "Credit_Score",
         "float64"
        ],
        [
         "Loan_Amount",
         "float64"
        ],
        [
         "Previous_Defaults",
         "int64"
        ],
        [
         "Marketing_Spend",
         "int64"
        ],
        [
         "Purchase_Frequency",
         "int64"
        ],
        [
         "Seasonality",
         "object"
        ],
        [
         "Sales",
         "int64"
        ],
        [
         "Customer_Churn",
         "int64"
        ],
        [
         "Defaulted",
         "int64"
        ]
       ],
       "shape": {
        "columns": 1,
        "rows": 14
       }
      },
      "text/plain": [
       "Customer_ID             int64\n",
       "Age                     int64\n",
       "Gender                 object\n",
       "Income                float64\n",
       "Spending_Score          int64\n",
       "Credit_Score          float64\n",
       "Loan_Amount           float64\n",
       "Previous_Defaults       int64\n",
       "Marketing_Spend         int64\n",
       "Purchase_Frequency      int64\n",
       "Seasonality            object\n",
       "Sales                   int64\n",
       "Customer_Churn          int64\n",
       "Defaulted               int64\n",
       "dtype: object"
      ]
     },
     "metadata": {},
     "output_type": "display_data"
    },
    {
     "name": "stdout",
     "output_type": "stream",
     "text": [
      "\n",
      "Missing values after cleaning:\n"
     ]
    },
    {
     "data": {
      "application/vnd.microsoft.datawrangler.viewer.v0+json": {
       "columns": [
        {
         "name": "index",
         "rawType": "object",
         "type": "string"
        },
        {
         "name": "0",
         "rawType": "int64",
         "type": "integer"
        }
       ],
       "ref": "6f85f20e-84f8-4d1f-a84c-0618454483ca",
       "rows": [
        [
         "Customer_ID",
         "0"
        ],
        [
         "Age",
         "0"
        ],
        [
         "Gender",
         "0"
        ],
        [
         "Income",
         "0"
        ],
        [
         "Spending_Score",
         "0"
        ],
        [
         "Credit_Score",
         "0"
        ],
        [
         "Loan_Amount",
         "0"
        ],
        [
         "Previous_Defaults",
         "0"
        ],
        [
         "Marketing_Spend",
         "0"
        ],
        [
         "Purchase_Frequency",
         "0"
        ],
        [
         "Seasonality",
         "0"
        ],
        [
         "Sales",
         "0"
        ],
        [
         "Customer_Churn",
         "0"
        ],
        [
         "Defaulted",
         "0"
        ]
       ],
       "shape": {
        "columns": 1,
        "rows": 14
       }
      },
      "text/plain": [
       "Customer_ID           0\n",
       "Age                   0\n",
       "Gender                0\n",
       "Income                0\n",
       "Spending_Score        0\n",
       "Credit_Score          0\n",
       "Loan_Amount           0\n",
       "Previous_Defaults     0\n",
       "Marketing_Spend       0\n",
       "Purchase_Frequency    0\n",
       "Seasonality           0\n",
       "Sales                 0\n",
       "Customer_Churn        0\n",
       "Defaulted             0\n",
       "dtype: int64"
      ]
     },
     "metadata": {},
     "output_type": "display_data"
    }
   ],
   "source": [
    "# Make a copy to preserve the original dataframe\n",
    "df_cleaned = df_raw.copy()\n",
    "\n",
    "# Step 1: Drop duplicate records\n",
    "initial_rows = len(df_cleaned)\n",
    "df_cleaned.drop_duplicates(inplace=True)\n",
    "rows_after_duplicates = len(df_cleaned)\n",
    "print(f\"Found and removed {initial_rows - rows_after_duplicates} duplicate rows.\")\n",
    "\n",
    "# Step 2: Replace missing numeric values with the mean\n",
    "# It appears there are two rows with the same customer ID \"26\". We will assume this is a typo and replace the second one with 126.\n",
    "# This correction is based on the visible pattern of IDs.\n",
    "df_cleaned.loc[df_cleaned.duplicated(subset=['Customer_ID'], keep='first'), 'Customer_ID'] = 126\n",
    "df_cleaned.loc[df_cleaned.duplicated(subset=['Customer_ID'], keep='first'), 'Customer_ID'] = 329\n",
    "\n",
    "numeric_cols_with_na = ['Income', 'Credit_Score', 'Loan_Amount']\n",
    "\n",
    "for col in numeric_cols_with_na:\n",
    "    mean_value = df_cleaned[col].mean()\n",
    "    # Using .loc to avoid the FutureWarning\n",
    "    df_cleaned.loc[:, col] = df_cleaned[col].fillna(mean_value)\n",
    "    print(f\"Missing values in '{col}' replaced with mean: {mean_value:.2f}\")\n",
    "\n",
    "# Step 3: Check data types (they appear correct, no changes needed)\n",
    "print(\"\\nData types after cleaning:\")\n",
    "display(df_cleaned.dtypes)\n",
    "\n",
    "# Confirm no more missing values\n",
    "print(\"\\nMissing values after cleaning:\")\n",
    "display(df_cleaned.isnull().sum())"
   ]
  },
  {
   "cell_type": "markdown",
   "metadata": {
    "id": "WAuhoCZ8MdAw"
   },
   "source": [
    "The dataset is now clean. No duplicate rows were found, and all missing numerical values have been replaced by their respective column means. Data types are appropriate for analysis."
   ]
  },
  {
   "cell_type": "markdown",
   "metadata": {
    "id": "TFsWEF5oMhdw"
   },
   "source": [
    "### 1.4 Exploratory Data Analysis (EDA)\n",
    "Here are some visualizations to explore the cleaned dataset.\n",
    "A. Correlation Matrix of Numerical Features\n",
    "This heatmap shows the linear relationships between numerical variables. Red indicates a positive correlation, blue indicates a negative correlation, and white indicates no correlation."
   ]
  },
  {
   "cell_type": "code",
   "execution_count": 12,
   "metadata": {
    "colab": {
     "base_uri": "https://localhost:8080/",
     "height": 980
    },
    "executionInfo": {
     "elapsed": 525,
     "status": "ok",
     "timestamp": 1750851863486,
     "user": {
      "displayName": "Segun Ade-Martins",
      "userId": "13276299746255898618"
     },
     "user_tz": -60
    },
    "id": "gI45Zm48Mpg5",
    "outputId": "988ab2ad-ffd5-4c75-e2ff-7b6408ab9678"
   },
   "outputs": [
    {
     "data": {
      "image/png": "[encoded data removed]",
      "text/plain": [
       "<Figure size 1200x1000 with 2 Axes>"
      ]
     },
     "metadata": {},
     "output_type": "display_data"
    }
   ],
   "source": [
    "plt.figure(figsize=(12, 10))\n",
    "# Select only numeric columns for correlation matrix\n",
    "numeric_df = df_cleaned.select_dtypes(include=np.number)\n",
    "correlation_matrix = numeric_df.corr()\n",
    "sns.heatmap(correlation_matrix, annot=False, cmap='coolwarm', linewidths=0.5)\n",
    "plt.title('Correlation Matrix of Numerical Features')\n",
    "plt.show()"
   ]
  },
  {
   "cell_type": "markdown",
   "metadata": {
    "id": "eYKevN4_MzEP"
   },
   "source": [
    "#### Key Observations:\n",
    "There are no extremely strong correlations between features, which is good for avoiding multicollinearity in modeling.\n",
    "Marketing_Spend and Purchase_Frequency show a very weak positive correlation with Sales.\n",
    "Age and Income appear to have a slight positive correlation.\n",
    "\n",
    "##### B. Distribution of Key Numerical Features"
   ]
  },
  {
   "cell_type": "code",
   "execution_count": 13,
   "metadata": {
    "colab": {
     "base_uri": "https://localhost:8080/",
     "height": 322
    },
    "executionInfo": {
     "elapsed": 581,
     "status": "ok",
     "timestamp": 1750851864045,
     "user": {
      "displayName": "Segun Ade-Martins",
      "userId": "13276299746255898618"
     },
     "user_tz": -60
    },
    "id": "lmZisUZ0M8ZJ",
    "outputId": "36343d40-a9dc-4b96-9c18-b2f68b8952d6"
   },
   "outputs": [
    {
     "data": {
      "image/png": "[encoded data removed]",
      "text/plain": [
       "<Figure size 1800x500 with 3 Axes>"
      ]
     },
     "metadata": {},
     "output_type": "display_data"
    }
   ],
   "source": [
    "fig, axes = plt.subplots(1, 3, figsize=(18, 5))\n",
    "sns.histplot(df_cleaned['Sales'], kde=True, ax=axes[0], color='skyblue').set_title('Distribution of Sales')\n",
    "sns.histplot(df_cleaned['Income'], kde=True, ax=axes[1], color='salmon').set_title('Distribution of Income')\n",
    "sns.histplot(df_cleaned['Age'], kde=True, ax=axes[2], color='lightgreen').set_title('Distribution of Age')\n",
    "plt.tight_layout()\n",
    "plt.show()"
   ]
  },
  {
   "cell_type": "markdown",
   "metadata": {
    "id": "S6K93N1lNE8g"
   },
   "source": [
    "#### Key Observations:\n",
    "Sales: The distribution is somewhat bimodal, with a large group of customers having sales below 40,000 and another smaller peak around 80,000-90,000.\n",
    "Income: The income distribution is also somewhat bimodal, with peaks around 30,000-40,000 and a larger one around 130,000-140,000.\n",
    "Age: The age distribution is fairly uniform, with a slight dip for customers in their late 20s and early 30s.\n",
    "#### C. Analysis of Categorical Features"
   ]
  },
  {
   "cell_type": "code",
   "execution_count": 14,
   "metadata": {
    "colab": {
     "base_uri": "https://localhost:8080/",
     "height": 322
    },
    "executionInfo": {
     "elapsed": 547,
     "status": "ok",
     "timestamp": 1750851864594,
     "user": {
      "displayName": "Segun Ade-Martins",
      "userId": "13276299746255898618"
     },
     "user_tz": -60
    },
    "id": "va1IOah9NIyf",
    "outputId": "4f790b70-25ff-48af-e825-7498641cb842"
   },
   "outputs": [
    {
     "data": {
      "image/png": "[encoded data removed]",
      "text/plain": [
       "<Figure size 1800x500 with 3 Axes>"
      ]
     },
     "metadata": {},
     "output_type": "display_data"
    }
   ],
   "source": [
    "fig, axes = plt.subplots(1, 3, figsize=(18, 5))\n",
    "\n",
    "# Address FutureWarning by assigning x to hue for countplot\n",
    "sns.countplot(x='Gender', data=df_cleaned, ax=axes[0], palette='pastel', hue='Gender', legend=False).set_title('Customer Count by Gender')\n",
    "sns.countplot(x='Seasonality', data=df_cleaned, ax=axes[1], palette='viridis', hue='Seasonality', legend=False).set_title('Purchases by Seasonality')\n",
    "sns.countplot(x='Customer_Churn', data=df_cleaned, ax=axes[2], palette='plasma', hue='Customer_Churn', legend=False).set_title('Customer Churn Count (0=No, 1=Yes)')\n",
    "\n",
    "# Address UserWarning by setting ticks before labels\n",
    "axes[2].set_xticks([0, 1])\n",
    "axes[2].set_xticklabels(['Not Churned', 'Churned'])\n",
    "\n",
    "plt.tight_layout()\n",
    "plt.show()"
   ]
  },
  {
   "cell_type": "markdown",
   "metadata": {
    "id": "IiBTqTGWNR08"
   },
   "source": [
    "#### Key Observations:\n",
    "Gender: The number of male and female customers is nearly equal in the dataset.\n",
    "Seasonality: Purchases are distributed across Low, Medium, and High seasonality, with Medium being the most frequent.\n",
    "Customer Churn: A significant portion of customers have churned (left the service).\n",
    "#### D. Sales by Seasonality and Churn Status"
   ]
  },
  {
   "cell_type": "code",
   "execution_count": 15,
   "metadata": {
    "colab": {
     "base_uri": "https://localhost:8080/",
     "height": 490
    },
    "executionInfo": {
     "elapsed": 349,
     "status": "ok",
     "timestamp": 1750851864952,
     "user": {
      "displayName": "Segun Ade-Martins",
      "userId": "13276299746255898618"
     },
     "user_tz": -60
    },
    "id": "hHyZTOruNUyZ",
    "outputId": "d87dd2d0-b360-4831-de00-126023b5f695"
   },
   "outputs": [
    {
     "data": {
      "image/png": "[encoded data removed]",
      "text/plain": [
       "<Figure size 1400x600 with 2 Axes>"
      ]
     },
     "metadata": {},
     "output_type": "display_data"
    }
   ],
   "source": [
    "fig, axes = plt.subplots(1, 2, figsize=(14, 6))\n",
    "\n",
    "# Address FutureWarning by assigning x to hue for boxplot\n",
    "sns.boxplot(x='Seasonality', y='Sales', data=df_cleaned, ax=axes[0], palette='Set2', hue='Seasonality', legend=False).set_title('Sales Distribution by Seasonality')\n",
    "sns.boxplot(x='Customer_Churn', y='Sales', data=df_cleaned, ax=axes[1], palette='Set3', hue='Customer_Churn', legend=False).set_title('Sales Distribution by Churn Status')\n",
    "\n",
    "# Address UserWarning by setting ticks before labels\n",
    "axes[1].set_xticks([0, 1])\n",
    "axes[1].set_xticklabels(['Not Churned', 'Churned'])\n",
    "\n",
    "plt.tight_layout()\n",
    "plt.show()"
   ]
  },
  {
   "cell_type": "markdown",
   "metadata": {
    "id": "RwB8C_-QOJCw"
   },
   "source": [
    "#### Key Observations:\n",
    "Sales by Seasonality: Median sales appear to be slightly higher during \"High\" seasonality, but the overall distributions are quite similar, suggesting seasonality may not be a very strong driver of sales volume on its own.\n",
    "Sales by Churn Status: Interestingly, the median Sales for customers who churned is slightly lower than for those who did not. However, the churned group contains customers with very high sales, indicating that even high-value customers are at risk of churning.\n",
    "#### 1.5 Basic Statistics Summary (Cleaned Dataset)\n",
    "Finally, here is the new descriptive statistics summary for the cleaned dataset. The count for all columns is now 500, and there are no missing values. The means for Income, Credit_Score, and Loan_Amount remain the same because we used the mean for imputation."
   ]
  },
  {
   "cell_type": "code",
   "execution_count": 16,
   "metadata": {
    "colab": {
     "base_uri": "https://localhost:8080/",
     "height": 477
    },
    "executionInfo": {
     "elapsed": 53,
     "status": "ok",
     "timestamp": 1750851864996,
     "user": {
      "displayName": "Segun Ade-Martins",
      "userId": "13276299746255898618"
     },
     "user_tz": -60
    },
    "id": "L6pcci1nOM0W",
    "outputId": "2aefe4d4-3f5a-45c5-95f6-2b991bde3f0f"
   },
   "outputs": [
    {
     "name": "stdout",
     "output_type": "stream",
     "text": [
      "--- Cleaned Dataset Summary ---\n",
      "Shape: 500 rows, 14 columns\n",
      "\n"
     ]
    },
    {
     "data": {
      "application/vnd.microsoft.datawrangler.viewer.v0+json": {
       "columns": [
        {
         "name": "index",
         "rawType": "object",
         "type": "string"
        },
        {
         "name": "count",
         "rawType": "int32",
         "type": "integer"
        },
        {
         "name": "mean",
         "rawType": "float64",
         "type": "float"
        },
        {
         "name": "median",
         "rawType": "float64",
         "type": "float"
        },
        {
         "name": "std_dev",
         "rawType": "float64",
         "type": "float"
        },
        {
         "name": "variance",
         "rawType": "float64",
         "type": "float"
        },
        {
         "name": "range",
         "rawType": "float64",
         "type": "float"
        },
        {
         "name": "iqr",
         "rawType": "float64",
         "type": "float"
        },
        {
         "name": "mode",
         "rawType": "object",
         "type": "unknown"
        }
       ],
       "ref": "e001d2b6-2b23-47bb-8e09-efec3f44078e",
       "rows": [
        [
         "Customer_ID",
         "500",
         "250.5",
         "250.5",
         "144.48",
         "20875.0",
         "499.0",
         "249.5",
         "1"
        ],
        [
         "Age",
         "500",
         "44.22",
         "45.0",
         "15.04",
         "226.08",
         "51.0",
         "25.0",
         "50.0"
        ],
        [
         "Income",
         "450",
         "84398.06",
         "85375.5",
         "40112.05",
         "1608976841.23",
         "129867.0",
         "74155.25",
         "20055.0"
        ],
        [
         "Spending_Score",
         "500",
         "50.86",
         "51.0",
         "29.13",
         "848.27",
         "98.0",
         "51.25",
         "98.0"
        ],
        [
         "Credit_Score",
         "450",
         "573.41",
         "588.5",
         "157.4",
         "24773.7",
         "548.0",
         "255.5",
         "383.0"
        ],
        [
         "Loan_Amount",
         "450",
         "28456.93",
         "29817.0",
         "12427.29",
         "154437660.43",
         "44773.0",
         "21082.75",
         "20379.0"
        ],
        [
         "Previous_Defaults",
         "500",
         "0.97",
         "1.0",
         "0.83",
         "0.68",
         "2.0",
         "2.0",
         "0.0"
        ],
        [
         "Marketing_Spend",
         "500",
         "10558.13",
         "10754.0",
         "5508.22",
         "30340476.64",
         "18966.0",
         "9058.25",
         "14324.0"
        ],
        [
         "Purchase_Frequency",
         "500",
         "15.35",
         "16.0",
         "8.48",
         "71.83",
         "28.0",
         "15.0",
         "27.0"
        ],
        [
         "Sales",
         "500",
         "54378.95",
         "54032.5",
         "27263.11",
         "743276974.27",
         "94632.0",
         "48016.25",
         "52574.0"
        ],
        [
         "Customer_Churn",
         "500",
         "0.25",
         "0.0",
         "0.44",
         "0.19",
         "1.0",
         "1.0",
         "0.0"
        ],
        [
         "Defaulted",
         "500",
         "0.19",
         "0.0",
         "0.39",
         "0.15",
         "1.0",
         "0.0",
         "0.0"
        ]
       ],
       "shape": {
        "columns": 8,
        "rows": 12
       }
      },
      "text/html": [
       "<div>\n",
       "<style scoped>\n",
       "    .dataframe tbody tr th:only-of-type {\n",
       "        vertical-align: middle;\n",
       "    }\n",
       "\n",
       "    .dataframe tbody tr th {\n",
       "        vertical-align: top;\n",
       "    }\n",
       "\n",
       "    .dataframe thead th {\n",
       "        text-align: right;\n",
       "    }\n",
       "</style>\n",
       "<table border=\"1\" class=\"dataframe\">\n",
       "  <thead>\n",
       "    <tr style=\"text-align: right;\">\n",
       "      <th></th>\n",
       "      <th>count</th>\n",
       "      <th>mean</th>\n",
       "      <th>median</th>\n",
       "      <th>std_dev</th>\n",
       "      <th>variance</th>\n",
       "      <th>range</th>\n",
       "      <th>iqr</th>\n",
       "      <th>mode</th>\n",
       "    </tr>\n",
       "  </thead>\n",
       "  <tbody>\n",
       "    <tr>\n",
       "      <th>Customer_ID</th>\n",
       "      <td>500</td>\n",
       "      <td>250.50</td>\n",
       "      <td>250.5</td>\n",
       "      <td>144.48</td>\n",
       "      <td>2.087500e+04</td>\n",
       "      <td>499.0</td>\n",
       "      <td>249.50</td>\n",
       "      <td>1</td>\n",
       "    </tr>\n",
       "    <tr>\n",
       "      <th>Age</th>\n",
       "      <td>500</td>\n",
       "      <td>44.22</td>\n",
       "      <td>45.0</td>\n",
       "      <td>15.04</td>\n",
       "      <td>2.260800e+02</td>\n",
       "      <td>51.0</td>\n",
       "      <td>25.00</td>\n",
       "      <td>50.0</td>\n",
       "    </tr>\n",
       "    <tr>\n",
       "      <th>Income</th>\n",
       "      <td>450</td>\n",
       "      <td>84398.06</td>\n",
       "      <td>85375.5</td>\n",
       "      <td>40112.05</td>\n",
       "      <td>1.608977e+09</td>\n",
       "      <td>129867.0</td>\n",
       "      <td>74155.25</td>\n",
       "      <td>20055.0</td>\n",
       "    </tr>\n",
       "    <tr>\n",
       "      <th>Spending_Score</th>\n",
       "      <td>500</td>\n",
       "      <td>50.86</td>\n",
       "      <td>51.0</td>\n",
       "      <td>29.13</td>\n",
       "      <td>8.482700e+02</td>\n",
       "      <td>98.0</td>\n",
       "      <td>51.25</td>\n",
       "      <td>98.0</td>\n",
       "    </tr>\n",
       "    <tr>\n",
       "      <th>Credit_Score</th>\n",
       "      <td>450</td>\n",
       "      <td>573.41</td>\n",
       "      <td>588.5</td>\n",
       "      <td>157.40</td>\n",
       "      <td>2.477370e+04</td>\n",
       "      <td>548.0</td>\n",
       "      <td>255.50</td>\n",
       "      <td>383.0</td>\n",
       "    </tr>\n",
       "    <tr>\n",
       "      <th>Loan_Amount</th>\n",
       "      <td>450</td>\n",
       "      <td>28456.93</td>\n",
       "      <td>29817.0</td>\n",
       "      <td>12427.29</td>\n",
       "      <td>1.544377e+08</td>\n",
       "      <td>44773.0</td>\n",
       "      <td>21082.75</td>\n",
       "      <td>20379.0</td>\n",
       "    </tr>\n",
       "    <tr>\n",
       "      <th>Previous_Defaults</th>\n",
       "      <td>500</td>\n",
       "      <td>0.97</td>\n",
       "      <td>1.0</td>\n",
       "      <td>0.83</td>\n",
       "      <td>6.800000e-01</td>\n",
       "      <td>2.0</td>\n",
       "      <td>2.00</td>\n",
       "      <td>0.0</td>\n",
       "    </tr>\n",
       "    <tr>\n",
       "      <th>Marketing_Spend</th>\n",
       "      <td>500</td>\n",
       "      <td>10558.13</td>\n",
       "      <td>10754.0</td>\n",
       "      <td>5508.22</td>\n",
       "      <td>3.034048e+07</td>\n",
       "      <td>18966.0</td>\n",
       "      <td>9058.25</td>\n",
       "      <td>14324.0</td>\n",
       "    </tr>\n",
       "    <tr>\n",
       "      <th>Purchase_Frequency</th>\n",
       "      <td>500</td>\n",
       "      <td>15.35</td>\n",
       "      <td>16.0</td>\n",
       "      <td>8.48</td>\n",
       "      <td>7.183000e+01</td>\n",
       "      <td>28.0</td>\n",
       "      <td>15.00</td>\n",
       "      <td>27.0</td>\n",
       "    </tr>\n",
       "    <tr>\n",
       "      <th>Sales</th>\n",
       "      <td>500</td>\n",
       "      <td>54378.95</td>\n",
       "      <td>54032.5</td>\n",
       "      <td>27263.11</td>\n",
       "      <td>7.432770e+08</td>\n",
       "      <td>94632.0</td>\n",
       "      <td>48016.25</td>\n",
       "      <td>52574.0</td>\n",
       "    </tr>\n",
       "    <tr>\n",
       "      <th>Customer_Churn</th>\n",
       "      <td>500</td>\n",
       "      <td>0.25</td>\n",
       "      <td>0.0</td>\n",
       "      <td>0.44</td>\n",
       "      <td>1.900000e-01</td>\n",
       "      <td>1.0</td>\n",
       "      <td>1.00</td>\n",
       "      <td>0.0</td>\n",
       "    </tr>\n",
       "    <tr>\n",
       "      <th>Defaulted</th>\n",
       "      <td>500</td>\n",
       "      <td>0.19</td>\n",
       "      <td>0.0</td>\n",
       "      <td>0.39</td>\n",
       "      <td>1.500000e-01</td>\n",
       "      <td>1.0</td>\n",
       "      <td>0.00</td>\n",
       "      <td>0.0</td>\n",
       "    </tr>\n",
       "  </tbody>\n",
       "</table>\n",
       "</div>"
      ],
      "text/plain": [
       "                    count      mean   median   std_dev      variance  \\\n",
       "Customer_ID           500    250.50    250.5    144.48  2.087500e+04   \n",
       "Age                   500     44.22     45.0     15.04  2.260800e+02   \n",
       "Income                450  84398.06  85375.5  40112.05  1.608977e+09   \n",
       "Spending_Score        500     50.86     51.0     29.13  8.482700e+02   \n",
       "Credit_Score          450    573.41    588.5    157.40  2.477370e+04   \n",
       "Loan_Amount           450  28456.93  29817.0  12427.29  1.544377e+08   \n",
       "Previous_Defaults     500      0.97      1.0      0.83  6.800000e-01   \n",
       "Marketing_Spend       500  10558.13  10754.0   5508.22  3.034048e+07   \n",
       "Purchase_Frequency    500     15.35     16.0      8.48  7.183000e+01   \n",
       "Sales                 500  54378.95  54032.5  27263.11  7.432770e+08   \n",
       "Customer_Churn        500      0.25      0.0      0.44  1.900000e-01   \n",
       "Defaulted             500      0.19      0.0      0.39  1.500000e-01   \n",
       "\n",
       "                       range       iqr     mode  \n",
       "Customer_ID            499.0    249.50        1  \n",
       "Age                     51.0     25.00     50.0  \n",
       "Income              129867.0  74155.25  20055.0  \n",
       "Spending_Score          98.0     51.25     98.0  \n",
       "Credit_Score           548.0    255.50    383.0  \n",
       "Loan_Amount          44773.0  21082.75  20379.0  \n",
       "Previous_Defaults        2.0      2.00      0.0  \n",
       "Marketing_Spend      18966.0   9058.25  14324.0  \n",
       "Purchase_Frequency      28.0     15.00     27.0  \n",
       "Sales                94632.0  48016.25  52574.0  \n",
       "Customer_Churn           1.0      1.00      0.0  \n",
       "Defaulted                1.0      0.00      0.0  "
      ]
     },
     "metadata": {},
     "output_type": "display_data"
    }
   ],
   "source": [
    "# Get and print stats for the cleaned dataset\n",
    "cleaned_shape, cleaned_summary = get_stats_summary(df_cleaned)\n",
    "\n",
    "print(\"--- Cleaned Dataset Summary ---\")\n",
    "print(f\"Shape: {cleaned_shape}\\n\")\n",
    "display(cleaned_summary)"
   ]
  },
  {
   "cell_type": "code",
   "execution_count": 17,
   "metadata": {
    "executionInfo": {
     "elapsed": 27,
     "status": "ok",
     "timestamp": 1750851865024,
     "user": {
      "displayName": "Segun Ade-Martins",
      "userId": "13276299746255898618"
     },
     "user_tz": -60
    },
    "id": "2zmJD18z5f_i"
   },
   "outputs": [],
   "source": [
    "# Export the cleaned dataset\n",
    "df_cleaned.to_csv('cleaned_dataset.csv', index=False)"
   ]
  },
  {
   "cell_type": "markdown",
   "metadata": {
    "id": "6AJO3dxFZOBG"
   },
   "source": [
    "### 2. Customer Analytics Dashboard"
   ]
  },
  {
   "cell_type": "markdown",
   "metadata": {},
   "source": [
    "#### 2.0.1 Key Matrics"
   ]
  },
  {
   "cell_type": "code",
   "execution_count": 23,
   "metadata": {
    "colab": {
     "base_uri": "https://localhost:8080/",
     "height": 211
    },
    "executionInfo": {
     "elapsed": 87,
     "status": "error",
     "timestamp": 1750862550575,
     "user": {
      "displayName": "Segun Ade-Martins",
      "userId": "13276299746255898618"
     },
     "user_tz": -60
    },
    "id": "eNuiPtLQZQ_0",
    "outputId": "2430048d-e938-4cb4-b7c7-096a2f9be556"
   },
   "outputs": [
    {
     "name": "stdout",
     "output_type": "stream",
     "text": [
      "Total customers: 500\n",
      "Total sales: 27189477.00\n",
      "Default customers: 95\n",
      "Default rate: 19.00%\n",
      "Churned customers: 127\n",
      "Churn rate: 25.40%\n",
      "Average sales per customer: 54378.95\n",
      "Average sales for churned customers: 55615.66\n"
     ]
    }
   ],
   "source": [
    "# Total customer\n",
    "total_customers = df_cleaned.shape[0]\n",
    "print(f\"Total customers: {total_customers}\")\n",
    "\n",
    "# Total sales\n",
    "total_sales = df_cleaned['Sales'].sum()\n",
    "print(f\"Total sales: {total_sales:.2f}\")\n",
    "\n",
    "# Default Rate\n",
    "default_customers = df_cleaned[df_cleaned['Defaulted'] == 1].shape[0]\n",
    "print(f\"Default customers: {default_customers}\")\n",
    "default_rate = (df_cleaned['Defaulted'].sum() / total_customers) * 100\n",
    "print(f\"Default rate: {default_rate:.2f}%\")\n",
    "\n",
    "# Churned customers\n",
    "churned_customers = df_cleaned[df_cleaned['Customer_Churn'] == 1].shape[0]\n",
    "print(f\"Churned customers: {churned_customers}\")\n",
    "\n",
    "# Churn rate\n",
    "churn_rate = (churned_customers / total_customers) * 100\n",
    "print(f\"Churn rate: {churn_rate:.2f}%\")\n",
    "\n",
    "# Average sales per customer\n",
    "average_sales_per_customer = total_sales / total_customers  \n",
    "print(f\"Average sales per customer: {average_sales_per_customer:.2f}\")\n",
    "# Average sales for churned customers\n",
    "average_sales_churned = df_cleaned[df_cleaned['Customer_Churn'] == 1]['Sales'].mean()\n",
    "print(f\"Average sales for churned customers: {average_sales_churned:.2f}\")"
   ]
  },
  {
   "cell_type": "markdown",
   "metadata": {},
   "source": [
    "#### Key Insights: 2.1 Customer Behaviour and Risk Analysis"
   ]
  },
  {
   "cell_type": "code",
   "execution_count": null,
   "metadata": {},
   "outputs": [
    {
     "name": "stdout",
     "output_type": "stream",
     "text": [
      "\n",
      "--- Churn vs Default Risk Matrix ---\n"
     ]
    },
    {
     "data": {
      "application/vnd.microsoft.datawrangler.viewer.v0+json": {
       "columns": [
        {
         "name": "Customer_Churn",
         "rawType": "object",
         "type": "unknown"
        },
        {
         "name": "0",
         "rawType": "float64",
         "type": "float"
        },
        {
         "name": "1",
         "rawType": "float64",
         "type": "float"
        },
        {
         "name": "Total",
         "rawType": "float64",
         "type": "float"
        }
       ],
       "ref": "ce86057e-6847-4966-a998-3e684a520a86",
       "rows": [
        [
         "0",
         "61.4",
         "13.200000000000001",
         "74.6"
        ],
        [
         "1",
         "19.6",
         "5.800000000000001",
         "25.4"
        ],
        [
         "Total",
         "81.0",
         "19.0",
         "100.0"
        ]
       ],
       "shape": {
        "columns": 3,
        "rows": 3
       }
      },
      "text/html": [
       "<div>\n",
       "<style scoped>\n",
       "    .dataframe tbody tr th:only-of-type {\n",
       "        vertical-align: middle;\n",
       "    }\n",
       "\n",
       "    .dataframe tbody tr th {\n",
       "        vertical-align: top;\n",
       "    }\n",
       "\n",
       "    .dataframe thead th {\n",
       "        text-align: right;\n",
       "    }\n",
       "</style>\n",
       "<table border=\"1\" class=\"dataframe\">\n",
       "  <thead>\n",
       "    <tr style=\"text-align: right;\">\n",
       "      <th>Defaulted</th>\n",
       "      <th>0</th>\n",
       "      <th>1</th>\n",
       "      <th>Total</th>\n",
       "    </tr>\n",
       "    <tr>\n",
       "      <th>Customer_Churn</th>\n",
       "      <th></th>\n",
       "      <th></th>\n",
       "      <th></th>\n",
       "    </tr>\n",
       "  </thead>\n",
       "  <tbody>\n",
       "    <tr>\n",
       "      <th>0</th>\n",
       "      <td>61.4</td>\n",
       "      <td>13.2</td>\n",
       "      <td>74.6</td>\n",
       "    </tr>\n",
       "    <tr>\n",
       "      <th>1</th>\n",
       "      <td>19.6</td>\n",
       "      <td>5.8</td>\n",
       "      <td>25.4</td>\n",
       "    </tr>\n",
       "    <tr>\n",
       "      <th>Total</th>\n",
       "      <td>81.0</td>\n",
       "      <td>19.0</td>\n",
       "      <td>100.0</td>\n",
       "    </tr>\n",
       "  </tbody>\n",
       "</table>\n",
       "</div>"
      ],
      "text/plain": [
       "Defaulted          0     1  Total\n",
       "Customer_Churn                   \n",
       "0               61.4  13.2   74.6\n",
       "1               19.6   5.8   25.4\n",
       "Total           81.0  19.0  100.0"
      ]
     },
     "metadata": {},
     "output_type": "display_data"
    },
    {
     "data": {
      "image/png": "[encoded data removed]",
      "text/plain": [
       "<Figure size 800x600 with 2 Axes>"
      ]
     },
     "metadata": {},
     "output_type": "display_data"
    }
   ],
   "source": [
    "# Function to calculate Churn vs Default Risk Matrix\n",
    "def churn_vs_default_risk_matrix(df):\n",
    "    # Create a contingency table\n",
    "    contingency_table = pd.crosstab(df['Customer_Churn'], df['Defaulted'], margins=True, margins_name=\"Total\")\n",
    "    \n",
    "    # Calculate percentages\n",
    "    contingency_table_percentage = contingency_table.div(contingency_table.loc['Total', 'Total'], axis=1) * 100\n",
    "    \n",
    "    return contingency_table_percentage\n",
    "\n",
    "# Calculate and display the Churn vs Default Risk Matrix\n",
    "churn_default_matrix = churn_vs_default_risk_matrix(df_cleaned)\n",
    "\n",
    "print(\"\\n--- Churn vs Default Risk Matrix ---\")\n",
    "display(churn_default_matrix)\n",
    "\n",
    "\n",
    "# Visualization of Churn vs Default Risk Matrix\n",
    "def plot_churn_default_matrix(matrix):\n",
    "    plt.figure(figsize=(8, 6))\n",
    "    sns.heatmap(matrix.iloc[:-1, :-1], annot=True, fmt=\".2f\", cmap='Blues', cbar_kws={'label': 'Percentage'})\n",
    "    plt.title('Churn vs Default Risk Matrix')\n",
    "    plt.xlabel('Defaulted (0=No, 1=Yes)')\n",
    "    plt.ylabel('Customer Churn (0=No, 1=Yes)')\n",
    "    plt.xticks(ticks=[0.5, 1.5], labels=['Not Defaulted', 'Defaulted'], rotation=0)\n",
    "    plt.yticks(ticks=[0.5, 1.5], labels=['Not Churned', 'Churned'], rotation=0)\n",
    "    plt.show()\n",
    "plot_churn_default_matrix(churn_default_matrix)\n",
    "\n",
    "\n",
    "# Function to calculate Customer Lifetime Value (CLV)"
   ]
  }
 ],
 "metadata": {
  "colab": {
   "authorship_tag": "ABX9TyNJmZqcjHFAum8i3DCRnLVo",
   "provenance": []
  },
  "kernelspec": {
   "display_name": "base",
   "language": "python",
   "name": "python3"
  },
  "language_info": {
   "codemirror_mode": {
    "name": "ipython",
    "version": 3
   },
   "file_extension": ".py",
   "mimetype": "text/x-python",
   "name": "python",
   "nbconvert_exporter": "python",
   "pygments_lexer": "ipython3",
   "version": "3.12.3"
  }
 },
 "nbformat": 4,
 "nbformat_minor": 0
}
